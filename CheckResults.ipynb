{
 "metadata": {
  "name": "",
  "signature": "sha256:1ad339ff6d30823f9608d898bab0f164443cd1645369c9da8f64c5977adc6e1f"
 },
 "nbformat": 3,
 "nbformat_minor": 0,
 "worksheets": [
  {
   "cells": [
    {
     "cell_type": "heading",
     "level": 3,
     "metadata": {},
     "source": [
      "Import libraries and data"
     ]
    },
    {
     "cell_type": "code",
     "collapsed": false,
     "input": [
      "import sympy as sp\n",
      "import numpy as np\n",
      "import itertools as it\n",
      "import json\n",
      "\n",
      "candidates = json.load(open(\"data1.json\", \"r\"))\n",
      "lookup = [[1,-1], [1,1], [1,0], [0,1], [0,0]]\n",
      "solns = [\n",
      "    [1,0,0,0,0,0,0,0,0,0,0,0,1,0,0,0],\n",
      "    [0,1,0,0,0,0,0,0,0,0,0,0,0,1,0,0],\n",
      "    [0,0,1,0,0,0,0,0,0,0,0,0,0,0,1,0],\n",
      "    [0,0,0,1,0,0,0,0,0,0,0,0,0,0,0,1],\n",
      "]"
     ],
     "language": "python",
     "metadata": {},
     "outputs": [],
     "prompt_number": 17
    },
    {
     "cell_type": "heading",
     "level": 3,
     "metadata": {},
     "source": [
      "Generate parities"
     ]
    },
    {
     "cell_type": "code",
     "collapsed": false,
     "input": [
      "singleParities = tuple(it.product([-1,1], repeat=7))\n",
      "pars = tuple(it.product(singleParities, repeat=2))\n",
      "\n",
      "def lup(x):\n",
      "    return list(lookup[i].copy() for i in x)\n",
      "def appParity(x,y):\n",
      "    return list(\n",
      "        [i[0]*j, i[1]*j] for (i,j) in zip(x,y)\n",
      "        )\n",
      "\n",
      "def appParPair(uvst, parPair):\n",
      "    return {'u' : lup(uvst['u']), 's' : lup(uvst['s']),\n",
      "            'v':appParity(lup(uvst['v']), parPair[0]),\n",
      "            't' : appParity(lup(uvst['t']), parPair[1])}"
     ],
     "language": "python",
     "metadata": {},
     "outputs": [],
     "prompt_number": 18
    },
    {
     "cell_type": "heading",
     "level": 3,
     "metadata": {},
     "source": [
      "Generate Matrices"
     ]
    },
    {
     "cell_type": "code",
     "collapsed": false,
     "input": [
      "def tensor(x,y):\n",
      "    return list(\n",
      "    i*j for (i,j) in it.product(x,y)\n",
      "    )\n",
      "\n",
      "def matGen(uvst):\n",
      "    left = tuple(i + j for (i,j) in zip(uvst['u'], uvst['v']))\n",
      "    right = tuple(i + j for (i,j) in zip(uvst['s'], uvst['t'])) \n",
      "    return sp.Matrix(\n",
      "        list(tensor(i,j) for (i,j) in zip(left, right)) \n",
      "        + solns.copy()\n",
      "        ).transpose()\n",
      "           \n",
      "    #for i in range(0,4):\n",
      "    #    tens = tens.col_insert(7+i,solns[:,i])\n",
      "\n",
      "\n",
      "def genListEntries(uvst):\n",
      "    for i in pars: \n",
      "        yield matGen(appParPair(uvst,i))\n",
      "\n",
      "def genList(uvst):\n",
      "    return list(genListEntries(uvst))\n",
      "    "
     ],
     "language": "python",
     "metadata": {},
     "outputs": [],
     "prompt_number": 37
    },
    {
     "cell_type": "code",
     "collapsed": false,
     "input": [
      "%timeit genList(candidates[0])"
     ],
     "language": "python",
     "metadata": {},
     "outputs": [
      {
       "output_type": "stream",
       "stream": "stdout",
       "text": [
        "1 loops, best of 3: 4.38 s per loop\n"
       ]
      }
     ],
     "prompt_number": 36
    },
    {
     "cell_type": "code",
     "collapsed": false,
     "input": [
      "a = genList(candidates[0])\n"
     ],
     "language": "python",
     "metadata": {},
     "outputs": [],
     "prompt_number": 38
    },
    {
     "cell_type": "code",
     "collapsed": true,
     "input": [
      "%timeit list(i.rref() for i in a)"
     ],
     "language": "python",
     "metadata": {},
     "outputs": []
    },
    {
     "cell_type": "code",
     "collapsed": false,
     "input": [],
     "language": "python",
     "metadata": {},
     "outputs": [],
     "prompt_number": 176
    },
    {
     "cell_type": "code",
     "collapsed": false,
     "input": [],
     "language": "python",
     "metadata": {},
     "outputs": [],
     "prompt_number": 176
    },
    {
     "cell_type": "code",
     "collapsed": false,
     "input": [],
     "language": "python",
     "metadata": {},
     "outputs": []
    }
   ],
   "metadata": {}
  }
 ]
}